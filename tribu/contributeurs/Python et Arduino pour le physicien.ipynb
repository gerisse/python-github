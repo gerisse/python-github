{
 "cells": [
  {
   "cell_type": "markdown",
   "metadata": {},
   "source": [
    "# Ceci est un **NoteBook** : un fichier au format *.ipynb* (Intercative PYthon NoteBook)\n",
    "\n",
    "**JupyterLab** est un éditeur interactif de programmes en langage **Python**. Il a l'intérêt de s'éxécuter par blocs et de pouvoir intercaller des blocs de texte permettant de guider l'utilisateur. C'est l'ensemble de ces blocs qui constitue ce que l'on appelle un **Notebook**.\n",
    "\n",
    "**L'ensemble des blocs de programme qui suivent a été conçu pour que son utilisateur puisse s'approprier de manière autonome et progressive le langage de programmation Python dont l'utilisation est conseillée dans les nouveaux programmes du lycée.**\n",
    "\n",
    "**L'ensemble des fonctionnalités présenté n'est évidemment pas exhaustif mais largement suffisant pour répondre à la plupart des mises en œuvres envisageables dans les classes de lycée.**\n",
    "\n",
    "****\n",
    "<p style=\"text-align:right\";>P. Larcher - philippe.larcher@ac-bordeaux.fr</p>"
   ]
  },
  {
   "cell_type": "markdown",
   "metadata": {},
   "source": [
    "# 1 - Se familiariser avec l'environnement JupyterLab :\n",
    "## 1.1 - Comprendre les icônes (ci-dessus) :\n",
    "- Disquette : enregistre le NoteBook ;\n",
    "- `+` : crée un nouveau bloc ;\n",
    "- Ciseaux : supprime un bloc ;\n",
    "- Double page et presse-papier : copie/colle un bloc ;\n",
    "- Triangle : valide le bloc ou lit le bloc et passe au bloc suivant (équivalent à shift-enter) ;\n",
    "- Carré : stoppe l'exécution du bloc ;\n",
    "- Flèche arrondie : relance le bloc;\n",
    "- Menu déroulant : permet de préciser le type de contenu du bloc (traitement de texte (**Markdown**) ou **Code**)"
   ]
  },
  {
   "cell_type": "markdown",
   "metadata": {},
   "source": [
    "## 1.2 - Écrire en langage Markdown :\n",
    "Double-cliquez   $\\Large{\\bf{ici}}$ pour entrer dans ce bloc de type **Markdown**.\n",
    "\n",
    "Markdown est un traitement de texte très simplifié qui permet par exemple d'écrire :\n",
    "# des titres\n",
    "## des sous-titres\n",
    "### des sous-sous-titres\n",
    "d'écrire en **gras** ou en *italique*\n",
    "de faire des listes :\n",
    "- listes à puces\n",
    "- comme ici\n",
    "\n",
    "Appuyez maintenant sur les touches shift+Entrer.\n",
    "\n",
    "Vous avez validé le bloc et pouvez maintenant voir son contenu édité.\n",
    "\n",
    "Un intérêt du `Markdown`, c'est que les formules peuvent être écrites en $\\LaTeX$ comme ici : $v_{moy}=\\dfrac{d}{\\Delta t}=7,12\\ m\\cdot s^{-1}$\n",
    "\n",
    "ou là $\\boxed{f(n)=\\sum_{i=0}^nA_i\\times\\sin\\left(\\omega t+\\phi_i\\right)}$ et là $\\boxed{\\sum_{i=1}^N\\vec{F_{i\\ ext}}=m\\times\\vec{g}-\\mu\\times\\vec{v}=\\dfrac{d\\vec{p}}{dt}=m\\times\\vec{a}+\\dfrac{dm}{dt}\\times\\vec{v}}$\n",
    "\n",
    "et encore ici $\\boxed{\\iiint_{sphère}\\vec{g(r)}\\cdot\\vec{dS}=-4\\pi\\times GM_{intérieure}}$ et là $\\boxed{\\vec{rot}\\vec{B}=\\mu_0\\vec{j}+\\frac{1}{c^2}\\cdot\\dfrac{\\partial\\vec{B}}{\\partial t}}$\n",
    "\n",
    "Plus d'informations sur Markdown <a href=\"https://michelf.ca/projets/php-markdown/syntaxe/\">ici</a>.\n",
    "\n",
    "Plus d'information sur $\\LaTeX$ <a href=\"https://www.latex-project.org/\">là</a>."
   ]
  },
  {
   "cell_type": "markdown",
   "metadata": {},
   "source": [
    "## 1.3 - Comprendre et manipuler les blocs :"
   ]
  },
  {
   "cell_type": "markdown",
   "metadata": {},
   "source": [
    "- il faut spécifier pour chaque bloc s'il contient du code Python (Code) ou du texte (Markdown) dans le menu déroulant à droite des icônes au dessus de ce NoteBook ;\n",
    "- on peut sélectionner un bloc en cliquant dessus : une barre bleue apparait à sa gauche ;\n",
    "- on peut masquer le bloc en cliquant sur la barre bleue ;\n",
    "- on peut déplacer un bloc en le sélectionnant par sa gauche et en le glissant ailleurs ;\n",
    "- on entre dans un bloc par un double-clic ;\n",
    "- on valide ou on exécute le contenu d'un bloc avec la commande : $\\bf{\\large{shift + entrer}}$ comme fait plus haut."
   ]
  },
  {
   "cell_type": "markdown",
   "metadata": {},
   "source": [
    "# 2 - \"Coder\" en Python :"
   ]
  },
  {
   "cell_type": "markdown",
   "metadata": {},
   "source": [
    "## 2.1 - Effectuer des opérations :"
   ]
  },
  {
   "cell_type": "markdown",
   "metadata": {},
   "source": [
    "### a - Effectuer des opérations de base :"
   ]
  },
  {
   "cell_type": "code",
   "execution_count": null,
   "metadata": {},
   "outputs": [],
   "source": [
    "print('bonjour') # Affiche la chaine de caractère : bonjour. NB : tout ce qui est écrit derrière un # est un commentaire no pris en compte dans le programme"
   ]
  },
  {
   "cell_type": "code",
   "execution_count": null,
   "metadata": {},
   "outputs": [],
   "source": [
    "print(3)  # Affiche l'entier 3\n",
    "print(3.) # Affiche le réel 3"
   ]
  },
  {
   "cell_type": "code",
   "execution_count": null,
   "metadata": {},
   "outputs": [],
   "source": [
    "a=3             # Stocke 3 dans la variable a\n",
    "print(a)        # Affiche la valeur stockée dans a\n",
    "print('a =',a)  # Affiche la chaine de caractère 'a =' puis la valeur stockée dans a\n",
    "print(float(a)) # Affiche le contenu de a converti en réel (float)"
   ]
  },
  {
   "cell_type": "code",
   "execution_count": null,
   "metadata": {},
   "outputs": [],
   "source": [
    "a=29\n",
    "b=7\n",
    "c = a + b\n",
    "d = a * b\n",
    "e = a / b  # division\n",
    "f = a // b # division euclidienne\n",
    "g = a % b  # reste de la division euclidienne\n",
    "h = a**b   # a^b\n",
    "print('c =',c,'/ d =',d,'/ e =',e,'/ f =',f,'/ g =',g,'/ h =',h)"
   ]
  },
  {
   "cell_type": "code",
   "execution_count": null,
   "metadata": {},
   "outputs": [],
   "source": [
    "a=[None] # Vide la variable a\n",
    "print(a)\n",
    "a=7\n",
    "a=a+1    # Ajoute 1 au contenu stocké dans a puis affiche la nouvelle valeur stockée dans a\n",
    "print(a) # Affiche le contenu de a\n",
    "a+=2     # a devient a + 2\n",
    "print(a)"
   ]
  },
  {
   "cell_type": "code",
   "execution_count": null,
   "metadata": {},
   "outputs": [],
   "source": [
    "i=\"Bonjour !\"\n",
    "j=867\n",
    "k=7.19\n",
    "l=(3,4)\n",
    "m=(l,5,'coucou',3.14)\n",
    "print(i)\n",
    "print(type(i)) # Affiche à quel type de variable appartient i\n",
    "print(j)\n",
    "print(type(j)) # Affiche à quel type de variable appartient j\n",
    "print(k)\n",
    "print(type(k)) # Affiche à quel type de variable appartient k\n",
    "print(l)\n",
    "print(type(l)) # Affiche à quel type de variable appartient l\n",
    "print(m)\n",
    "print(type(m)) # Affiche à quel type de variable appartient m"
   ]
  },
  {
   "cell_type": "code",
   "execution_count": null,
   "metadata": {},
   "outputs": [],
   "source": [
    "n = 'Bonjour ' \n",
    "o = 'tout le monde !'\n",
    "p = n + o # Ici le signe + correspond à une concaténation, puisque k et l sont des chaines de caractères (str)\n",
    "print(p)"
   ]
  },
  {
   "cell_type": "code",
   "execution_count": null,
   "metadata": {},
   "outputs": [],
   "source": [
    "age = input(\"Quel est votre âge ?\") # Pour plus d'interactivité...\n",
    "print(f'Ha bon ! Vous avez',age,'ans ? Vous ne les faites pas !')"
   ]
  },
  {
   "cell_type": "code",
   "execution_count": null,
   "metadata": {},
   "outputs": [],
   "source": [
    "print('age*2 =',age*2) # Ici on demande d'afficher age*2 mais age est une chaine de caractère !\n",
    "age=int(age)           # Ici on convertit la chaine de caractères en un entier (int)\n",
    "print('age*2 =',age*2) # Ici on demande d'afficher age*2 et age est maintenant un entier !"
   ]
  },
  {
   "cell_type": "markdown",
   "metadata": {},
   "source": [
    "Définition d'une fonction nouvelle :"
   ]
  },
  {
   "cell_type": "code",
   "execution_count": null,
   "metadata": {},
   "outputs": [],
   "source": [
    "def v(d,Dt):\n",
    "    return d / Dt   # définit la fonction v qui calcule le rapport entre d et Dt\n",
    "print('v =',v(3,2),'m/s')"
   ]
  },
  {
   "cell_type": "markdown",
   "metadata": {},
   "source": [
    "Boucles conditionnelles :"
   ]
  },
  {
   "cell_type": "code",
   "execution_count": null,
   "metadata": {},
   "outputs": [],
   "source": [
    "i = 0             # i prend la valeur 0\n",
    "while i < 5 :     # tant que i est inférieur à 5\n",
    "    print(i+1)    # affiche i+1\n",
    "    i+=1          # incrémente i de 1"
   ]
  },
  {
   "cell_type": "code",
   "execution_count": null,
   "metadata": {},
   "outputs": [],
   "source": [
    "c = 'PHYSIQUE & CHIMIE'\n",
    "for i in c :              # pour i appartenant à c\n",
    "    print(i)              # affiche i"
   ]
  },
  {
   "cell_type": "code",
   "execution_count": null,
   "metadata": {},
   "outputs": [],
   "source": [
    "for n in range(1,9) :     # pour n compris dans l'intervalle [1,9]\n",
    "    print('Si n =',n,'alors 2^n =',2**n)             # affiche 2^n"
   ]
  },
  {
   "cell_type": "markdown",
   "metadata": {},
   "source": [
    "Un exemple mathématique amusant bien connu utilisant les boucles conditionnelles est la fameuse conjecture de Syracuse dont la démonstration raportera $1\\ 000\\ 000\\ \\$ $ à celui qu'il la démontrera :\n",
    "\n",
    "Cette conjecture est définie de la façon suivante :\n",
    "\n",
    "Pour n'importe quel entier N supérieur à 1 :\n",
    "- si N est paire, diviser N par 2;\n",
    "- si N est impaire, multiplier N par 3 et lui ajouter 1.\n",
    "\n",
    "Essayez, pour voir :"
   ]
  },
  {
   "cell_type": "code",
   "execution_count": null,
   "metadata": {},
   "outputs": [],
   "source": [
    "def syrac(n):                           # on définit la fonction syrac qui reçoit n comme argument\n",
    "    seq=[n]                             # on place l'entier n dans la liste seq\n",
    "    while seq[-1] != 1:                 # tant que le dernier nombre de la liste est différent de 1\n",
    "        if seq[-1] % 2 == 0:               # si il est divisible par 2 (pair)\n",
    "            seq.append(seq[-1] // 2)          # ajoute à la liste ce nombre divisé par 2\n",
    "        else:                              # sinon \n",
    "            seq.append(seq[-1] * 3 + 1)       # ajoute à la liste ce nombre multiplié par 3 et incrémenté de 1\n",
    "    return seq                          # renvoit la séquence complété\n",
    "\n",
    "N = int(input('choisir un entier supérieur à 1 :'))\n",
    "print(syrac(N))"
   ]
  },
  {
   "cell_type": "markdown",
   "metadata": {},
   "source": [
    "### b - Un exemple de programme avec des boucles conditionnelles en chimie :"
   ]
  },
  {
   "cell_type": "code",
   "execution_count": null,
   "metadata": {},
   "outputs": [],
   "source": [
    "print(\"Soit l'équation 4 P + 5 O2 -> 2 P2O5\")\n",
    "nP=input(\"Quelle est la quantité de matière initiale de phosphore en mole ? : \")\n",
    "nO2=input(\"Quelle est la quantité de matière initiale de dioxygène en mole ? : \")\n",
    "print (\"\\n\")\n",
    "nP = float(nP)\n",
    "nO2 = float(nO2)\n",
    "\n",
    "if nP/4 < nO2/5 :\n",
    "    print (\"Tout le phosphore a été consommé.\")\n",
    "    print(\"La quantité de matière finale de dioxygene est : nf(O2) =\", nO2-5*nP/4,\"mol\")\n",
    "    print(\"La quantité de matière finale de pentaoxyde de phosphore est : nf(P2O5) =\", (2*nP/4),\"mol\")\n",
    "    \n",
    "elif nP/4 > nO2/5:\n",
    "    print (\"Tout le dioxygène a été consommé.\")\n",
    "    print(\"La quantité de matière finale de phosphore est : nf(P) =\", (nP-4*nO2/5),\"mol\")\n",
    "    print(\"La quantité de matière finale de pentaoxyde de phosphore est : nf(P2O5) =\",(2*nO2/5),\"mol\")\n",
    "    \n",
    "else :\n",
    "    print(\"Il ne reste ni phosphore, ni dioxygène.\")\n",
    "    print(\"La quantite de matière finale de pentaoxyde de phosphore est : nf(P2O5) =\",2*nO2/5,\"mol\")"
   ]
  },
  {
   "cell_type": "markdown",
   "metadata": {},
   "source": [
    "### c - Effectuer des opérations plus évolués :\n",
    "Par défaut, Python ne connait pas les fonctions scientifiques telles que sinus, cosinus ou exponentielle,...\n",
    "\n",
    "Il faut importer au besoin les modules complémentaires. C'est ce que l'on fait ici avec le module **numpy** (https://docs.python.org/fr/)"
   ]
  },
  {
   "cell_type": "code",
   "execution_count": null,
   "metadata": {},
   "outputs": [],
   "source": [
    "import numpy as np # on importe le module numpy qui sera appelé par la commande 'np.'"
   ]
  },
  {
   "cell_type": "code",
   "execution_count": null,
   "metadata": {},
   "outputs": [],
   "source": [
    "u = np.pi                               # pi\n",
    "v = np.cos(np.pi/4)                     # cos(pi/4)\n",
    "w = np.log(5)                           # ln (5) / log(5) s'écrira np.log10(5)\n",
    "x = np.exp(-3/5)                        # exp(-3/5)\n",
    "y = np.arccos(np.sqrt(3)/2)*180/np.pi   # arccos(racine(3)/2) converti en degrès\n",
    "z = 7*np.array([[1,2,3],[4,5,6],[7,8,9]])      # array = tableau\n",
    "print('u =',u)\n",
    "print('w =',v)\n",
    "print('w =',w)\n",
    "print('x =',x)\n",
    "print('y =',y)\n",
    "print('z =\\n',z)"
   ]
  },
  {
   "cell_type": "markdown",
   "metadata": {},
   "source": [
    "**Remarques :**\n",
    "\n",
    "- Il est fréquent (et normal) de commettre des erreurs et que le programme ne fonctionne pas. Dans ce cas, un message d'erreur apparait sur fond rouge. C'est en général tout en bas de ce message qu'apparait l'information la plus utile pour résoudre le problème (quelques exemples ci-dessous à corriger).\n",
    "- En cas de doute sur l'utilisation d'une fonction, il est toujours possible de demander de l'aide en tapant : help(fonction).\n",
    "- La touche tab permet d'ouvrir une proposition de différentes fonctions commençant par les caractères déjà inscrits."
   ]
  },
  {
   "cell_type": "code",
   "execution_count": null,
   "metadata": {},
   "outputs": [],
   "source": [
    "a = cosh(5)\n",
    "print(a)"
   ]
  },
  {
   "cell_type": "code",
   "execution_count": null,
   "metadata": {},
   "outputs": [],
   "source": [
    "x = -5\n",
    "y = 2*x**2+8*x-10\n",
    "z = x/y"
   ]
  },
  {
   "cell_type": "code",
   "execution_count": null,
   "metadata": {},
   "outputs": [],
   "source": [
    "a = (1;2;3;4)\n",
    "mean(a)"
   ]
  },
  {
   "cell_type": "markdown",
   "metadata": {},
   "source": [
    "u = 3/2\n",
    "print(u)"
   ]
  },
  {
   "cell_type": "markdown",
   "metadata": {},
   "source": [
    "## 2.3 - Tracer des graphiques :\n",
    "Là encore, il va falloir importer un module spécifique pour tracer les graphiques : matplotlib.pyplot (https://www.science-emergence.com/Articles/Tutoriel-Matplotlib/)"
   ]
  },
  {
   "cell_type": "code",
   "execution_count": null,
   "metadata": {},
   "outputs": [],
   "source": [
    "import numpy as np\n",
    "import matplotlib.pyplot as plt"
   ]
  },
  {
   "cell_type": "markdown",
   "metadata": {},
   "source": [
    "Les commandes suivantes permettent de tracer la fonction $f(t) = e^{-\\frac{t}{\\tau}}\\times \\cos(\\omega t)$ sur l'intervalle $[0;60s]$.\n",
    "\n",
    "**Remarque importante :** En informatique, on ne peut tracer qu'un nuage de points en nombre forcément limité. Pour tracer une fonction, on doit donc créer une liste d'abscisses pour un intervalle et un pas de son choix, puis générer une liste d'ordonnées et tracer la seconde liste en fonction de la première.\n",
    "\n",
    "On définit donc d'abord les bornes et le nombre de points :"
   ]
  },
  {
   "cell_type": "code",
   "execution_count": null,
   "metadata": {},
   "outputs": [],
   "source": [
    "t_min=0.    # Le . permet d'imposer un type réel (float) plutôt qu'un type entier (int)\n",
    "t_max=60.\n",
    "N=121        # Nombre de valeurs sur l'intervalle"
   ]
  },
  {
   "cell_type": "markdown",
   "metadata": {},
   "source": [
    "En python, la fonction **linspace** du module **numpy** affecte à une variable un tableau (array) de valeurs comprises entre deux valeurs extrêmes et régulièrement réparties dans l'intervalle.\n",
    "\n",
    "On crée donc la variable $t$ :"
   ]
  },
  {
   "cell_type": "code",
   "execution_count": null,
   "metadata": {},
   "outputs": [],
   "source": [
    "t=np.linspace(t_min,t_max,N)\n",
    "print(type(t))\n",
    "print(t)        # Remarque : les commandes print() sont là pour illustrer mais n'ont aucun caractère obligatoire"
   ]
  },
  {
   "cell_type": "markdown",
   "metadata": {},
   "source": [
    "On définit les constantes $\\omega$ et $\\tau$ et on calcule la liste $f$ qui est aussi un tableau (array)"
   ]
  },
  {
   "cell_type": "code",
   "execution_count": null,
   "metadata": {},
   "outputs": [],
   "source": [
    "w=1.\n",
    "tau=10.\n",
    "f=np.exp(-t/tau)*np.cos(w*t)\n",
    "print(type(f))\n",
    "print(f)        # Remarque : les commandes print() sont là pour illustrer mais n'ont aucun caractère obligatoire"
   ]
  },
  {
   "cell_type": "markdown",
   "metadata": {},
   "source": [
    "On trace la fonction $f(t)$ et on ajoute un titre, un libellé pour chaque axe et une grille :"
   ]
  },
  {
   "cell_type": "code",
   "execution_count": null,
   "metadata": {},
   "outputs": [],
   "source": [
    "plt.rcParams['figure.figsize'] = [16,8]   # Définit la taille du graphique (largeur x hauteur en pouces)\n",
    "plt.plot(t,f,'ro')   #crée le graphe f(t) sous forme de rond (o) rouges rouge (r)\n",
    "plt.plot(-t,f,'m+-')  #crée le graphe f(-t) en trait plein (-) de couleur magenta (m)\n",
    "plt.plot(t,-f,'k--') # crée le graphe -f(t) en pointillés (--) noirs (k)\n",
    "plt.plot(-t,-f,'g.') # crée le graphe -f(-t) sous formes de croix (+) vertes (g)...\n",
    "plt.rcParams['figure.figsize'] = [12,6]   # définit la taille du graphe\n",
    "plt.title(\"Évolution de l'amplitude en fonction du temps\")\n",
    "plt.xlabel('temps (s)')\n",
    "plt.ylabel('amplitude (m)')\n",
    "plt.grid()           # Affiche la grille\n",
    "plt.show()           # affiche le graphe"
   ]
  },
  {
   "cell_type": "markdown",
   "metadata": {},
   "source": [
    "## 2.4 - Traiter des données à partir d'un fichier *.csv* :"
   ]
  },
  {
   "cell_type": "markdown",
   "metadata": {},
   "source": [
    "Pour traiter des données, le module **pandas** (http://www.python-simple.com/python-pandas/panda-intro.php) permet de lire et de générer des cichier *.csv*.\n",
    "\n",
    "Ces fichiers peuvent facilement être récupérés à partir de données d'un logiciel de pointage."
   ]
  },
  {
   "cell_type": "code",
   "execution_count": null,
   "metadata": {},
   "outputs": [],
   "source": [
    "import pandas as pd"
   ]
  },
  {
   "cell_type": "markdown",
   "metadata": {},
   "source": [
    "On se propose ici de traiter un fichier *.csv* obtenu par pointage du centre de gravité d'un ballon de basket lors d'un lancé.\n",
    "Le pointage a été réalisé dans LoggerPro puis exporté (menu Ficher -> Exporter en CSV). Le fichier *Basket.csv* a été placé dans le même dossier que ce fichier\n",
    "\n",
    "**Attention :** tous les logiciels ne créent pas les fichiers *.csv* avec le même type de séparateurs. Ici, LoggerPro a utilisé le symbole \" , \" et il faut le préciser dans Python. Ce pourra être une autre fois un \";\", un \".\", un \" \" ou encore une tabulation \"\\t\""
   ]
  },
  {
   "cell_type": "code",
   "execution_count": null,
   "metadata": {},
   "outputs": [],
   "source": [
    "nom_fichier = 'basket.csv'                 # Attention le fichier .csv doit être placé dans le même dossier que le fichier .ipynb\n",
    "data = pd.read_csv(nom_fichier, sep = ',') # ici on place les données du fichier .csv dont les séparateurs sont des virgules dans une variable de type dataframe\n",
    "print(type(data))                          #  un dataframe est un tableau dans lequel toutes les valeurs sont du même type (ici float)\n",
    "data.head()                                # La commande .head() permet de voir les 5 premières lignes du dataframe"
   ]
  },
  {
   "cell_type": "code",
   "execution_count": null,
   "metadata": {},
   "outputs": [],
   "source": [
    "t = data['VideoAnalysis: Time (s)']\n",
    "x = data['VideoAnalysis: X (m)']     # Ici, on extrait t, x et y du tableau sous la forme d'une colonne appelée series\n",
    "y = data['VideoAnalysis: Y (m)']\n",
    "print(type(x))\n",
    "print(t)"
   ]
  },
  {
   "cell_type": "markdown",
   "metadata": {},
   "source": [
    "On extrait un élément du dataframe de la manière suivante :"
   ]
  },
  {
   "cell_type": "code",
   "execution_count": null,
   "metadata": {},
   "outputs": [],
   "source": [
    "print(t[0],x[1],y[6]) # affiche le premier élément (0) de la série t, le second (1) de la série x et le 7ème de la série y\n",
    "print(len(t))         # affiche le nombre d'éléments de la série t"
   ]
  },
  {
   "cell_type": "markdown",
   "metadata": {},
   "source": [
    "On peut alors tracer n'importe quelle grandeur en fonction d'une autre :"
   ]
  },
  {
   "cell_type": "code",
   "execution_count": null,
   "metadata": {},
   "outputs": [],
   "source": [
    "import matplotlib.pyplot as plt\n",
    "\n",
    "plt.rcParams['figure.figsize'] = [12,6]\n",
    "plt.plot(t,x,'bo', label='x')\n",
    "plt.plot(t,y,'ro', label='y')\n",
    "plt.legend()\n",
    "plt.grid()\n",
    "plt.xlabel(\"Coordonnée (m)\")\n",
    "plt.ylabel(\"t (s)\")\n",
    "plt.title(\"Coordonnées en fonction du temps\")\n",
    "plt.show()"
   ]
  },
  {
   "cell_type": "code",
   "execution_count": null,
   "metadata": {},
   "outputs": [],
   "source": [
    "plt.rcParams['figure.figsize'] = [12,6]\n",
    "plt.plot(x,y,'ko')\n",
    "plt.xlabel(\"x (m)\")\n",
    "plt.ylabel(\"y (m)\")\n",
    "plt.title(\"Trajectoire\")\n",
    "plt.grid()\n",
    "plt.show()\n",
    "plt.close()"
   ]
  },
  {
   "cell_type": "markdown",
   "metadata": {},
   "source": [
    "## 2.5 - Calculer et tracer $v_x(t)$, $v_y(t)$, $a_x(t)$, $a_y(t)$, $E_c(t)$, $E_{pp}(t)$ et $E_m(t)$ (dérivation) :\n",
    "\n",
    "### Remarque importante :\n",
    "Dans un soucis d'harmonisation avec les mathématiciens, il convient dorénavant d'approximer les vecteurs vitesse et accélération instantannées en un point $M_i$ par les expressions :\n",
    "\n",
    "$$\\boxed{\\vec{v_i}=\\dfrac{\\overrightarrow{M_iM_{i+1}}}{t_{i+1}-t_i}}\\hspace{1cm}et\\hspace{1cm}\\boxed{\\vec{a_i}=\\dfrac{\\vec{v_{i+1}}-\\vec{v_i}}{t_{i+1}-t_i}}$$\n",
    "     </font>"
   ]
  },
  {
   "cell_type": "code",
   "execution_count": null,
   "metadata": {},
   "outputs": [],
   "source": [
    "liste_pos = list(zip(x,y)) # la fonction zip transforme 2 Series x et y en 1 liste de tuples (x,y)\n",
    "liste_temps = list(t)      # On convertit ici la Series t en liste"
   ]
  },
  {
   "cell_type": "code",
   "execution_count": null,
   "metadata": {},
   "outputs": [],
   "source": [
    "import time                                     # on importe ici ce module uniquement pour aider plus loin à la compréhension du programme\n",
    "                                                # en créant un délais dans le skript...\n",
    "def deriv(Xi,Xf,ti,tf):\n",
    "    xi, yi = Xi                                 # On définit ici une nouvelle fonction nommée deriv qui calcule la dérivée.\n",
    "    xf, yf = Xf                                 # Elle reçoit les coordonnées de 2 points sous la forme de 2 tuples (x,y) notés X\n",
    "    D_x = xf - xi                               #  et 2 dates  sous la forme de 2 floats\n",
    "    D_y = yf - yi                               #   et renvoit le tuple (vx,vy).\n",
    "    D_t = tf - ti                               # NB : aucun calcul n'est effectué ici. On définit seulement la fonction.\n",
    "    return D_x / D_t, D_y / D_t\n",
    "\n",
    "n = len(liste_pos)-1                            # on définit les points de la liste pour lesquels on va faire le calcul\n",
    "                                                # n = nb. de positions -1 : on exclue la dernière position puisque la vitesse n'y sera pas calculable\n",
    "\n",
    "liste_vit = []                                  # on crée une liste vide pour accueillir les données (vx,vy)\n",
    " \n",
    "for i in range(0,n):                            # pour i variant de 0 à n\n",
    "    Xi = (liste_pos[i][0],liste_pos[i][1])      # on extrait le tuple (xi,yi) de la liste des positions\n",
    "    Xf = (liste_pos[i+1][0],liste_pos[i+1][1])  # on extrait le tuple (xi+1,yi+1) de la liste des positions\n",
    "    ti = liste_temps[i]                         # on extrait la date ti de la liste des positions\n",
    "    tf = liste_temps[i+1]                       # on extrait la date ti+1 de la liste des positions\n",
    "    liste_vit += [deriv(Xi,Xf,ti,tf)]           # on ajoute le tuple (vxi,vyi) à la liste et on retourne en haut de la boucle\n",
    "    #time.sleep(1.0) \n",
    "    #print(liste_vit)                           # retirer éventuellement les # pour comprendre le fonctionnement du skript                            \n",
    "    \n",
    "liste_temps2 = liste_temps[0:-1]                # on crée une nouvelle liste des dates pour l'accélération\n",
    "                                                #  en excluant la dernière valeur\n",
    "    \n",
    "n = len(liste_vit)-1                            # n = nb. de positions -1 car pas de calcul d'acc. possible pour la dernière vitesse.\n",
    "\n",
    "liste_acc = []                                  # on crée une liste vide pour accueillir les données (ax,ay)\n",
    "\n",
    "for i in range(0,n):                            # pour i variant de 0 à n\n",
    "    Vi = (liste_vit[i][0],liste_vit[i][1])      # on extrait le tuple (vxi,vyi) de la liste des vitesses\n",
    "    Vf = (liste_vit[i+1][0],liste_vit[i+1][1])  # on extrait le tuple (vxi+1,vyi+1) de la liste des vitesses\n",
    "    ti = liste_temps[i]                         # on extrait la date ti de la liste des positions\n",
    "    tf = liste_temps[i+1]                       # on extrait la date ti+1 de la liste des positions\n",
    "    liste_acc += [deriv(Vi,Vf,ti,tf)]           # on ajoute le tuple (axi,ayi) à la liste et on retourne en haut de la boucle"
   ]
  },
  {
   "cell_type": "code",
   "execution_count": null,
   "metadata": {},
   "outputs": [],
   "source": [
    "data = list(zip(liste_temps[0:-2],liste_pos[0:-2],liste_vit[0:-1], liste_acc))\n",
    "# on crée une liste : (t,(x,z),(vx,vz),(ax,az)) uniquement pour les dates où toutes les grandeurs sont calculables\n",
    "# [N:-M] permet d'exclure les N premières valeurs et les M dernières\n",
    "\n",
    "#for i in range (0,vx):\n",
    "#    print(data[i])                 # cette boucle permet de voir le fonctionnement du programme\n",
    "#    time.sleep(1.0)\n",
    "#print('et ainsi de suite...')"
   ]
  },
  {
   "cell_type": "markdown",
   "metadata": {},
   "source": [
    "On va à présent récupérer les coordonnées vx et vy qui sont dans liste_vit. Voici la première ligne de cette liste :"
   ]
  },
  {
   "cell_type": "code",
   "execution_count": null,
   "metadata": {},
   "outputs": [],
   "source": [
    "print(liste_vit[0])    # affiche la première ligne de la liste des (vx,vy)"
   ]
  },
  {
   "cell_type": "code",
   "execution_count": null,
   "metadata": {},
   "outputs": [],
   "source": [
    "vx = [v[0] for v in liste_vit]  # on définit la liste vx extraite à partir de la colonne 0 de liste_vit\n",
    "vy = [v[1] for v in liste_vit]  # on définit la liste vy extraite à partir de la colonne 1 de liste_vit\n",
    "print('On obtient ainsi : vx =',vx[0],'m/s et vy =',vy[0],'m/s séparément.')"
   ]
  },
  {
   "cell_type": "markdown",
   "metadata": {},
   "source": [
    "On peut maintenant tracer vx(t) et vy(t) :"
   ]
  },
  {
   "cell_type": "code",
   "execution_count": null,
   "metadata": {},
   "outputs": [],
   "source": [
    "plt.rcParams['figure.figsize'] = [12,6]\n",
    "plt.xlabel(\"$t$ (s)\")\n",
    "plt.ylabel(\"$v_x$ et $v_y$ (m.s$^{-1}$)\")\n",
    "plt.title(\"Coordonnées du vecteur vitesse\")\n",
    "plt.grid()\n",
    "plt.plot(liste_temps[0:-1], vx, 'ob', label='$v_x$')\n",
    "plt.plot(liste_temps[0:-1], vy, 'or', label='$v_y$')\n",
    "plt.legend()\n",
    "plt.show()"
   ]
  },
  {
   "cell_type": "markdown",
   "metadata": {},
   "source": [
    "On peut maintenant répéter l'opération pour obtenir les coordonnées du vecteur accélération :"
   ]
  },
  {
   "cell_type": "code",
   "execution_count": null,
   "metadata": {},
   "outputs": [],
   "source": [
    "ax = [a[0] for a in liste_acc]  # on définit la liste ax extraite à partir de la colonne 0 de liste_acc\n",
    "ay = [a[1] for a in liste_acc]  # on définit la liste ay extraite à partir de la colonne 1 de liste_acc\n",
    "plt.rcParams['figure.figsize'] = [12,6]\n",
    "plt.xlabel(\"$t$ (s)\")\n",
    "plt.ylabel(\"$a_x$ et $a_y$ (m.s$^{-2}$)\")\n",
    "plt.title(\"Coordonnées du vecteur accélération\")\n",
    "plt.grid()\n",
    "plt.plot(liste_temps2[0:-1], ax, 'ob', label='$a_x$')\n",
    "plt.plot(liste_temps2[0:-1], ay, 'or', label='$a_y$')\n",
    "plt.legend()\n",
    "plt.show()"
   ]
  },
  {
   "cell_type": "markdown",
   "metadata": {},
   "source": [
    "**Étant donnée la dispersion (attendues après 2 dérivations successives) des valeurs de ax et ay, on peut envisager une étude statistique :**"
   ]
  },
  {
   "cell_type": "code",
   "execution_count": null,
   "metadata": {},
   "outputs": [],
   "source": [
    "import numpy as np\n",
    "from scipy import std , mean\n",
    "\n",
    "moyenne = mean(ay)\n",
    "std_m = std (ay , ddof=1)\n",
    "\n",
    "def gauss(x, A, moyenne, ecarttype):\n",
    "    return A/(ecarttype*np.sqrt(2*np.pi))*np.exp(-(x-moyenne)**2/(2*ecarttype**2))\n",
    "                                                              # on définit d'abord la fonction de Gauss\n",
    "N_classes = 5                                                 # on demande le nombre de classes statistiques\n",
    "A = len(ay) * (max(ay)-min(ay))/N_classes                     # on calcule l'air sous la courbe\n",
    "x_fit = np.linspace(min(ay)-1,max(ay)+1,100)                  # on génère la liste des x dans l'intervalle des mesures\n",
    "y_fit = gauss(x_fit, A, moyenne, std_m)                                \n",
    "plt.rcParams['figure.figsize'] = [12,6]                       # définit la taille du graphe\n",
    "plt.hist(ay,range=[min(ay),max(ay)],bins = N_classes, edgecolor='k')\n",
    "plt.xlabel (\"Valeur de ay\")\n",
    "plt.ylabel (\"Fréquence\")\n",
    "plt.plot(x_fit,y_fit,'r')\n",
    "plt.show()"
   ]
  },
  {
   "cell_type": "code",
   "execution_count": null,
   "metadata": {},
   "outputs": [],
   "source": [
    "from scipy import std , mean\n",
    "moyenne = mean(ax)\n",
    "std_m = std (ax , ddof=1)\n",
    "\n",
    "def gauss(x, A, moyenne, ecarttype):\n",
    "    return A/(ecarttype*np.sqrt(2*np.pi))*np.exp(-(x-moyenne)**2/(2*ecarttype**2))\n",
    "                                                              # on définit d'abord la fonction de Gauss\n",
    "N_classes = 5                                                 # on demande le nombre de classes statistiques\n",
    "A = len(ax) * (max(ax)-min(ax))/N_classes                     # on calcule l'air sous la courbe\n",
    "x_fit2 = np.linspace(min(ax)-1,max(ax)+1,100)                 # on génère la liste des x dans l'intervalle des mesures\n",
    "y_fit2 = gauss(x_fit2, A, moyenne, std_m)                                \n",
    "plt.rcParams['figure.figsize'] = [12,6]                       # définit la taille du graphe\n",
    "plt.hist(ax,range=[min(ax),max(ax)],bins = N_classes, edgecolor='k')\n",
    "plt.xlabel (\"Valeur de ax\")\n",
    "plt.ylabel (\"Fréquence\")\n",
    "plt.plot(x_fit2,y_fit2,'r')\n",
    "plt.show()"
   ]
  },
  {
   "cell_type": "markdown",
   "metadata": {},
   "source": [
    "**On peut également tracer les énergies en fonction du temps en UA (on ne connait pas la masse ici) :**"
   ]
  },
  {
   "cell_type": "code",
   "execution_count": null,
   "metadata": {},
   "outputs": [],
   "source": [
    "Ec = []\n",
    "Epp = []\n",
    "Em = []\n",
    "n = len(liste_temps[0:-1])\n",
    "for i in range(0,n):\n",
    "    Eci = (vx[i]**2+vy[i]**2)/2\n",
    "    Ec.append(Eci)\n",
    "    Epi = 9.8 * y[i]\n",
    "    Epp.append(Epi)\n",
    "    Emi = Eci + Epi\n",
    "    Em.append(Emi)\n",
    "\n",
    "plt.rcParams['figure.figsize'] = [12,6]\n",
    "plt.xlabel(\"$t$ (s)\")\n",
    "plt.ylabel(\"$E_c$, $E_{pp}$ et $E_m$ (U.A.)\")\n",
    "plt.title(\"Énergies\")\n",
    "plt.grid()\n",
    "plt.plot(liste_temps[0:-1], Ec, 'or--', label='$E_c$')\n",
    "plt.plot(liste_temps[0:-1], Epp, 'ob--', label='$E_{pp}$')\n",
    "plt.plot(liste_temps[0:-1], Em, 'og--', label='$E_m$')\n",
    "plt.legend()\n",
    "plt.show() "
   ]
  },
  {
   "cell_type": "markdown",
   "metadata": {},
   "source": [
    "## 2.6 - Effectuer une régression polynomiale :\n",
    "On montre ici comment il est possible de modéliser les fonctions $x(t)$, $y(t)$, $y(x)$, $v_x(t)$, $v_y(t)$, $a_x(t)$ et $a_y(t)$ par une fonction polynomiale à l'aide de la fonction polyfit du module numpy."
   ]
  },
  {
   "cell_type": "code",
   "execution_count": null,
   "metadata": {},
   "outputs": [],
   "source": [
    "plt.plot(t,x,'bo',label='Vx')\n",
    "plt.plot(t,y,'ro',label='Vy')\n",
    "plt.legend()\n",
    "plt.grid()\n",
    "xt_fit = np.polyfit(t,x,1)\n",
    "yt_fit = np.polyfit(t,y,2)\n",
    "m = xt_fit[0]\n",
    "n = xt_fit[1]\n",
    "p = yt_fit[0]\n",
    "q = yt_fit[1]\n",
    "r = yt_fit[2]\n",
    "xt_mod = m * t + n\n",
    "yt_mod = p * t**2 + q * t + r\n",
    "plt.rcParams['figure.figsize'] = [12,6]\n",
    "plt.xlabel(\"t (m)\")\n",
    "plt.ylabel(\"x,y (m)\")\n",
    "plt.title(\"Coordonnées du vecteur position\")\n",
    "plt.plot(t,xt_mod)\n",
    "plt.plot(t,yt_mod)\n",
    "plt.show()\n",
    "print('x(t) = ',m,'t +',n)\n",
    "print('y(t) = ',p,'t^2 +',q,'t +',r)"
   ]
  },
  {
   "cell_type": "code",
   "execution_count": null,
   "metadata": {},
   "outputs": [],
   "source": [
    "plt.plot(x,y,'ko')\n",
    "plt.xlabel(\"x (m)\")\n",
    "plt.ylabel(\"y (m)\")\n",
    "plt.title(\"Trajectoire\")\n",
    "plt.grid()\n",
    "yx_fit = np.polyfit(x,y,2)\n",
    "a = yx_fit[0]\n",
    "b = yx_fit[1]\n",
    "c = yx_fit[2]\n",
    "y_mod = a * x**2 + b * x + c\n",
    "plt.rcParams['figure.figsize'] = [12,6]\n",
    "plt.plot(x,y_mod)\n",
    "plt.show()\n",
    "print('La trajectoire a pour équation : y =',a,'x^2 +',b,'x +',c)"
   ]
  },
  {
   "cell_type": "code",
   "execution_count": null,
   "metadata": {},
   "outputs": [],
   "source": [
    "plt.plot(liste_temps[0:-1], vx, 'ob', label='$v_x$')\n",
    "plt.plot(liste_temps[0:-1], vy, 'or', label='$v_y$')\n",
    "plt.legend()\n",
    "vxt_fit = np.polyfit(liste_temps[0:-1], vx,0)\n",
    "vyt_fit = np.polyfit(liste_temps[0:-1], vy,1)\n",
    "d = vxt_fit[0]\n",
    "e = vyt_fit[0]\n",
    "f = vyt_fit[1]\n",
    "\n",
    "print('vx(t) =',d ,' m/s')\n",
    "print('vy(t) =',e,'t +',f)\n",
    "\n",
    "vxt_mod = d*t/t\n",
    "vyt_mod = e * t + f\n",
    "t_mod=np.linspace(min(t),max(t),len(vxt_mod))\n",
    "\n",
    "plt.rcParams['figure.figsize'] = [12,6]\n",
    "plt.grid()\n",
    "plt.xlabel(\"t (s)\")\n",
    "plt.ylabel('$v_x$ et $v_y$ (m.s$^{-1}$)')\n",
    "plt.title(\"Coordonnées du vecteur vitesse\")\n",
    "plt.plot(t_mod,vxt_mod)\n",
    "plt.plot(t_mod,vyt_mod)\n",
    "plt.show()"
   ]
  },
  {
   "cell_type": "code",
   "execution_count": null,
   "metadata": {},
   "outputs": [],
   "source": [
    "plt.plot(liste_temps2[0:-1], ax, 'ob', label='$a_x$')\n",
    "plt.plot(liste_temps2[0:-1], ay, 'or', label='$a_y$')\n",
    "plt.legend()\n",
    "\n",
    "h = np.mean(ax)\n",
    "i = np.mean(ay)\n",
    "\n",
    "axt_mod = h * t/t\n",
    "ayt_mod = i * t/t\n",
    "t_mod=np.linspace(min(t),max(t),len(axt_mod))\n",
    "\n",
    "plt.rcParams['figure.figsize'] = [12,6]\n",
    "plt.grid()\n",
    "plt.xlabel(\"t (s)\")\n",
    "plt.ylabel('$a_x$ et $a_y$ (m.s$^{-2}$)')\n",
    "plt.title(\"Coordonnées du vecteur accélération\")\n",
    "plt.plot(t_mod,axt_mod)\n",
    "plt.plot(t_mod,ayt_mod)\n",
    "plt.show()\n",
    "\n",
    "print('ax(t) =',h ,' m/s-2')\n",
    "print('ay(t) =',i ,' m/s-2')"
   ]
  },
  {
   "cell_type": "markdown",
   "metadata": {},
   "source": [
    "## 2.7 - Tracer les vecteurs vitesse et accélération :"
   ]
  },
  {
   "cell_type": "code",
   "execution_count": null,
   "metadata": {},
   "outputs": [],
   "source": [
    "k = 0.25 # on change l'échelle pour que les flèches rentrent dans la figure\n",
    "\n",
    "for p in data:\n",
    "    t, (x, y), (vx, vy), (ax, ay) = p\n",
    "    plt.arrow(x,y,k*vx,k*vy,fc=\"g\",ec=\"g\",head_width=0.04,head_length=0.04)\n",
    "    plt.plot(x,y,'k+')\n",
    "\n",
    "# on affine ensuite les limites du cadre pour s'assurer que les vecteurs restent dans ce cadre\n",
    "\n",
    "cx = 0.15\n",
    "cy = 0.2\n",
    "x_min=min(xt_mod)\n",
    "x_max=max(xt_mod)\n",
    "y_min=min(yt_mod)\n",
    "y_max=max(yt_mod)\n",
    "\n",
    "plt.rcParams['figure.figsize'] = [12,12]\n",
    "plt.xlim(x_min-cx*(x_max-x_min),x_max+cx*(x_max-x_min))\n",
    "plt.ylim(y_min-2*cy*(y_max-y_min),y_max+cy*(y_max-y_min))\n",
    "plt.show()"
   ]
  },
  {
   "cell_type": "code",
   "execution_count": null,
   "metadata": {},
   "outputs": [],
   "source": [
    "k = 0.025\n",
    "ax_moy=0\n",
    "ay_moy=0\n",
    "for p in data:\n",
    "    t, (x, y), (vx, vy), (ax, ay) = p\n",
    "    plt.arrow(x,y,k*ax,k*ay,fc=\"g\",ec=\"g\",head_width=0.04,head_length=0.04)\n",
    "    plt.plot(x,y,'ko')\n",
    "    ax_moy+=ax\n",
    "    ay_moy+=ay\n",
    "    \n",
    "ax_moy=ax_moy/len(data)\n",
    "ay_moy=ay_moy/len(data)\n",
    "plt.arrow(x_min,y_max*1.1,k*ax_moy,k*ay_moy,fc=\"g\",ec=\"g\",head_width=0.1,head_length=0.1,width=0.02)\n",
    "plt.text(x_min,y_max*1.02*1.1,'accélération\\n moyenne',fontsize=14,color='g',horizontalalignment='center')\n",
    "plt.arrow(x_min+(x_max-x_min)/5,y_max*1.1,0,-9.81*k,fc=\"r\",ec=\"r\",head_width=0.1,head_length=0.1,width=0.02)\n",
    "plt.text(x_min+(x_max-x_min)/5,y_max*1.02*1.1,'intensité de\\n pesanteur',fontsize=14,color='r',horizontalalignment='center')\n",
    "    \n",
    "plt.rcParams['figure.figsize'] = [12,12]\n",
    "plt.xlim(x_min-cx*(x_max-x_min),x_max+cx*(x_max-x_min))\n",
    "plt.ylim(y_min-cy*(y_max-y_min),y_max+cy*(y_max-y_min))\n",
    "plt.show()"
   ]
  },
  {
   "cell_type": "markdown",
   "metadata": {},
   "source": [
    "## 2.8 - Créer un fichier *.csv* contenant des données calculées avec Python :\n",
    "\n",
    "On créer d'abord le dataframe dans lequel on va enregistrer les données :"
   ]
  },
  {
   "cell_type": "code",
   "execution_count": null,
   "metadata": {},
   "outputs": [],
   "source": [
    "nom_fichier = 'basket.csv'\n",
    "data = pd.read_csv(nom_fichier, sep = ',')\n",
    "t = data['VideoAnalysis: Time (s)']\n",
    "\n",
    "newdata = pd.DataFrame({\n",
    "    't (s)' : t[0:15],\n",
    "    'Ec (J)' : Ec[0:15],\n",
    "    'Epp (J)' : Epp[0:15],\n",
    "    'Em (J)' : Em[0:15]\n",
    "})\n",
    "newdata.head()"
   ]
  },
  {
   "cell_type": "markdown",
   "metadata": {},
   "source": [
    "La fonction *to_csv* permet de générer le fichier *.csv* qui apparait dans la liste de gauche après exécution du script.\n",
    "- *sep=';'* : indique que les informations sont séparées par un point-virgule;\n",
    "- *index=False* : précise qu'aucun indice de colonne doit être enregistré dans le fichier;\n",
    "- *encoding='utf-8'* : stipule que l'encodage des données dans le fichier est *utf-8*"
   ]
  },
  {
   "cell_type": "code",
   "execution_count": null,
   "metadata": {},
   "outputs": [],
   "source": [
    "nom_fichier = \"Energies.csv\"\n",
    "newdata.to_csv(nom_fichier, sep=';', index=False, encoding='utf-8')"
   ]
  },
  {
   "cell_type": "markdown",
   "metadata": {},
   "source": [
    "# 3 - Communiquer avec une carte Arduino :\n",
    "\n",
    "## 3.1 - Récupérer les données issues du microcontrôleur :\n",
    "\n",
    "Les données issues de la carte Arduino peuvent être récupérées et traitées avec Python.\n",
    "\n",
    "Il faut au préalable installer le module **Serial** (https://riptutorial.com/fr/python/topic/5744/communication-serie-python--pyserial-) qui permet de gérer les ports série : pour cela, il faut retourner dans **Anaconda-Navigator**, puis dans **Environments** (en haut à gauche), choisir \"not installed\" et rechercher **pyserial**.\n",
    "\n",
    "Une fois l'installation terminée, il faut importer le module **Serial** et le module **time** :"
   ]
  },
  {
   "cell_type": "code",
   "execution_count": null,
   "metadata": {},
   "outputs": [],
   "source": [
    "import serial as sr\n",
    "import time"
   ]
  },
  {
   "cell_type": "markdown",
   "metadata": {},
   "source": [
    "Il faut ensuite préciser à Python :\n",
    "- le port utilisé et le taux de transfert : le port est indiqué en bas à droite de la fenêtre **Arduino** ;\n",
    "- le taux de transfert choisi et indiqué dans le programme.\n",
    "\n",
    "# TRÈS IMPORTANT :\n",
    "\n",
    "**Le moniteur série d'Arduino doit toujours être fermé avant d'activer le port dans Python : la carte Arduino ne peut pas communiquer simultanément avec le sketch Arduino et avec Python.**\n",
    "\n",
    "**De même le port série doit être désactivé par la commande *port_serie.close()* dans Python si on veut visualiser le moniteur série !**"
   ]
  },
  {
   "cell_type": "code",
   "execution_count": null,
   "metadata": {},
   "outputs": [],
   "source": [
    "port_serie = sr.Serial(port = \"/dev/cu.usbmodem411\", baudrate = \"9600\")"
   ]
  },
  {
   "cell_type": "markdown",
   "metadata": {},
   "source": [
    "On va ensuite lire les informations qui sont envoyées par la carte sous la forme d'une chaine de caractères.\n",
    "\n",
    "Le montage est celui d'une résistance de $10\\ k\\Omega$ en série avec une photo résistance, l'ensemble étant alimenté par une tension de 5V et EA0 étant pris entre la résistance et la photorésistance.\n",
    "\n",
    "Ici on utilise un programme Arduino qui affiche **chaque 10 ms** le temps écoulé en millisecondes, une tabulation et la valeur de la tension **U** mesurée sur l'entrée EA0 :\n",
    "\n",
    "    void setup() {\n",
    "    Serial.begin(9600);        // précise le taux de transfert au bauds\n",
    "    }\n",
    "    void loop() {\n",
    "    Serial.print(millis());    // Affiche le temps écoulé en millisecondes\n",
    "    Serial.print(\"\\t \");       // Affiche une tabulation\n",
    "    float U;                   // Définit la variable réelle U\n",
    "    U = analogRead(0)*5./1023; // Calcule U à partir du mot numérique reçu par EA0, la carte utilisant un CAN 10 bits (valeurs entre 0 et 1023) sur la plage 0-5V\n",
    "    Serial.println(U);         // Affiche U et revient à la ligne\n",
    "    delay(10);                 // Attend 10 ms\n",
    "    }\n",
    "    "
   ]
  },
  {
   "cell_type": "code",
   "execution_count": null,
   "metadata": {},
   "outputs": [],
   "source": [
    "print(port_serie.readline()) # affiche la ligne lue jusqu'au retour à la ligne (println)\n",
    "# \\r = retour chariot\n",
    "# \\n = retour à la ligne\n",
    "# entre les '' = string"
   ]
  },
  {
   "cell_type": "markdown",
   "metadata": {},
   "source": [
    "On va ensuite récupérer les données envoyées par l'Arduino et les stocker dans une liste à l'aide d'une boucle itérative :"
   ]
  },
  {
   "cell_type": "code",
   "execution_count": null,
   "metadata": {},
   "outputs": [],
   "source": [
    "liste_U = []                        # génère une liste nommée liste_U\n",
    "for i in range(5):                  # pour i de 0 à 4 (5 premières lignes en partant de 0)\n",
    "    mesure = port_serie.readline()  # on crée la variable \"mesure\" qui prend la valeur de la chaine de caractères\n",
    "    liste_U.append(mesure)          # on ajoute la valeur \"mesure\" à la liste grâce à la commande .append()\n",
    "    print(mesure.split())           # la fonction split permet de découper la chaine de caractères en morceaux identifiés par les tabulations\n",
    "port_serie.close()                  # ferme le port série"
   ]
  },
  {
   "cell_type": "markdown",
   "metadata": {},
   "source": [
    "On peut maintenant automatiser l'ensemble pour récupérer à caque instant t la mesure de U :\n",
    "\n",
    "NB : Tant que les crochets à gauche de ce cadre contiennent une *, c'est que l'aquisition n'est pas terminée."
   ]
  },
  {
   "cell_type": "code",
   "execution_count": null,
   "metadata": {},
   "outputs": [],
   "source": [
    "port_serie = sr.Serial(port = \"/dev/cu.usbmodem14301\", baudrate = \"9600\")\n",
    "port_serie.setDTR(False)                # Procédure non indispensable\n",
    "time.sleep(0.1)                         # de\n",
    "port_serie.setDTR(True)                 # réinitialisation\n",
    "port_serie.flushInput()                 # du port\n",
    "\n",
    "mesures = []                            # génère une liste nommée mesures\n",
    "temps = []                              # génère une liste nommée temps\n",
    "\n",
    "N = int(input('Nombre de mesures souhaité :'))\n",
    "print('Patientez...')\n",
    "\n",
    "for i in range(N):                      # prends les N premières valeurs\n",
    "    val = port_serie.readline().split() # place dans la variable \"val\" les lignes déconcaténées\n",
    "    try:                                # permet de sauter à la valeur suivante en cas d'erreur\n",
    "        t = float(val[0])               # t prend la valeur de la colonne \n",
    "        U = float(val[1])\n",
    "        mesures.append(U)               # on ajoute U à la liste des mesures\n",
    "        temps.append(t)                 # et t à la liste des temps\n",
    "    except:\n",
    "        pass                            # sauf en cas d'erreur\n",
    "print('Acquisition terminée')\n",
    "port_serie.close()                      # on ferme le port série"
   ]
  },
  {
   "cell_type": "markdown",
   "metadata": {},
   "source": [
    "**Remarque :** le même script peut être légèrement adapté pour demander la durée d'aquisition plutôt que le nombre de points de mesure :"
   ]
  },
  {
   "cell_type": "code",
   "execution_count": null,
   "metadata": {},
   "outputs": [],
   "source": [
    "port_serie = sr.Serial(port = \"/dev/cu.usbmodem14301\", baudrate = \"9600\")\n",
    "port_serie.setDTR(False)                # Procédure non indispensable\n",
    "time.sleep(0.1)                         # de\n",
    "port_serie.setDTR(True)                 # réinitialisation\n",
    "port_serie.flushInput()                 # du port\n",
    "\n",
    "mesures = []                            # génère une liste nommée mesures\n",
    "temps = []                              # génère une liste nommée temps\n",
    "duree = int(input('Durée d\\'acquisition souhaitée en secondes :'))\n",
    "duree = duree * 1000\n",
    "end = False\n",
    "\n",
    "print('Patientez...')\n",
    "\n",
    "while end == False or temps[-1] - temps[0] <= duree:\n",
    "    val = port_serie.readline().split() # place dans la variable \"val\" les lignes déconcaténées\n",
    "    try:                                # permet de sauter à la valeur suivante en cas d'erreur\n",
    "        t = float(val[0])               # attention la première colonne est la colonne 0\n",
    "        U = float(val[1])\n",
    "        mesures.append(U)               # on ajoute U à la liste des mesures\n",
    "        temps.append(t)                 # et t à la liste des temps\n",
    "        end = True\n",
    "    except:\n",
    "        pass                            # sauf en cas d'erreur\n",
    "print('Acquisition terminée')\n",
    "port_serie.close()"
   ]
  },
  {
   "cell_type": "markdown",
   "metadata": {},
   "source": [
    "## 3.2 - Effectuer un traitement statistique des données :\n",
    "\n",
    "On peut analyser la variabilité des mesures de la tension en traçant un histogramme d'abord sur l'ensemble de la plage de mesure (0 à 5 V) pour vérifier que les mesures sont cohérentes :"
   ]
  },
  {
   "cell_type": "code",
   "execution_count": null,
   "metadata": {},
   "outputs": [],
   "source": [
    "import matplotlib.pyplot as plt\n",
    "\n",
    "N = len(temps)\n",
    "plt.rcParams['figure.figsize'] = [12,6]\n",
    "N_classes=int(N/10)\n",
    "plt.hist(mesures,range=[0,5],bins=N_classes, edgecolor='k')\n",
    "plt.xlabel(\"Valeur de U\")\n",
    "plt.ylabel (\"Fréquence\")\n",
    "plt.show()"
   ]
  },
  {
   "cell_type": "markdown",
   "metadata": {},
   "source": [
    "On peut à présent limiter l'étendue de l'histogramme aux valeurs mesurées, calculer la moyenne et l'écart-type, puis comparer à une loi normale.\n",
    "\n",
    "Il faut pour cela chargée les fonctions **mean** et **std_m** du module skipy."
   ]
  },
  {
   "cell_type": "code",
   "execution_count": null,
   "metadata": {},
   "outputs": [],
   "source": [
    "from scipy import std , mean\n",
    "moyenne = mean(mesures)\n",
    "std_m = std (mesures , ddof=1)\n",
    "print ( \"Moyenne numérique = \" , moyenne , \"\\nÉcart type numérique = \" , std_m )"
   ]
  },
  {
   "cell_type": "code",
   "execution_count": null,
   "metadata": {},
   "outputs": [],
   "source": [
    "import numpy as np\n",
    "\n",
    "def gauss(x, A, moyenne, ecarttype):\n",
    "    return A/(ecarttype*np.sqrt(2*np.pi))*np.exp(-(x-moyenne)**2/(2*ecarttype**2))\n",
    "                                                              # on définit d'abord la fonction de Gauss\n",
    "N_classes = int(input('Entrer le nombre de clases'))          # on demande le nombre de classes statistiques\n",
    "A = N * (max(mesures)-min(mesures))/N_classes                 # on calcule l'air sous la courbe\n",
    "x = np.linspace(int(min(mesures)*1000-1)/1000, int((max(mesures))*1000+1)/1000,100)   # on génère la liste des x dans l'intervalle des mesures\n",
    "y = gauss(x, A, moyenne, std_m)                                \n",
    "plt.rcParams['figure.figsize'] = [12,6]                       # définit la taille du graphe\n",
    "plt.hist(mesures,range=[min(mesures),max(mesures)],bins = N_classes, edgecolor='k')\n",
    "plt.xlabel (\"Valeur numérique\")\n",
    "plt.ylabel (\"Fréquence\")\n",
    "plt.plot(x,y,'r')\n",
    "plt.show()"
   ]
  },
  {
   "cell_type": "markdown",
   "metadata": {},
   "source": [
    "## 3.3 - Construire un graphe pas à pas :\n",
    "\n",
    "### a. Tracer d'un graphe point par point\n",
    "\n",
    "Cette fonctionnalité nécessite d'importer la fonction **display** du module **IPython** :"
   ]
  },
  {
   "cell_type": "code",
   "execution_count": null,
   "metadata": {},
   "outputs": [],
   "source": [
    "import numpy as np\n",
    "import matplotlib.pyplot as plt\n",
    "import time\n",
    "from IPython import display"
   ]
  },
  {
   "cell_type": "markdown",
   "metadata": {},
   "source": [
    "Les deux instructions suivantes permettent d'activer l'affichage du graphique."
   ]
  },
  {
   "cell_type": "code",
   "execution_count": null,
   "metadata": {},
   "outputs": [],
   "source": [
    "display.display(plt.gcf())\n",
    "display.clear_output(wait=True)"
   ]
  },
  {
   "cell_type": "markdown",
   "metadata": {},
   "source": [
    "La fonction *draw()* du module **numpy** permet de réaliser le rafraichissement du graphique.\n",
    "\n",
    "On se propose par exemple de faire apparaitre point par point la fonction $u(t) = sin(t)\\times e^{-t/5}$ :"
   ]
  },
  {
   "cell_type": "code",
   "execution_count": 67,
   "metadata": {},
   "outputs": [
    {
     "data": {
      "image/png": "[encoded data removed]",
      "text/plain": [
       "<Figure size 864x432 with 1 Axes>"
      ]
     },
     "metadata": {
      "needs_background": "light"
     },
     "output_type": "display_data"
    }
   ],
   "source": [
    "tmin = 0\n",
    "tmax = 20\n",
    "N = 50\n",
    "t = np.linspace(tmin,tmax,N)\n",
    "\n",
    "for i in range(N):\n",
    "    u = np.sin(t[i]) * np.exp(-t[i]/5)\n",
    "    plt.rcParams['figure.figsize'] = [12,6]\n",
    "    plt.plot(t[i], u, 'b.')\n",
    "    plt.draw()\n",
    "    display.display(plt.gcf())\n",
    "    display.clear_output(wait=True)\n",
    "    time.sleep(0.01) # une pause de 0,01 s"
   ]
  },
  {
   "cell_type": "markdown",
   "metadata": {},
   "source": [
    "On observe que l'échelle s'adapte progressivement à l'espace occupé par la courbe, mais on peut également fixer les limites au préalable :"
   ]
  },
  {
   "cell_type": "code",
   "execution_count": null,
   "metadata": {},
   "outputs": [],
   "source": [
    "tmin = 0\n",
    "tmax = 20\n",
    "N = 50\n",
    "t = np.linspace(tmin,tmax,N)\n",
    "\n",
    "for i in range(N):\n",
    "    u = np.sin(t[i]) * np.exp(-t[i]/5)\n",
    "    plt.rcParams['figure.figsize'] = [12,6]\n",
    "    plt.plot(t[i], u, 'b.')\n",
    "    plt.xlim(0,20)\n",
    "    plt.ylim(-0.5,0.8)\n",
    "    plt.draw()\n",
    "    display.display(plt.gcf())\n",
    "    display.clear_output(wait=True)\n",
    "    time.sleep(0.01) # une pause de 0,01 s"
   ]
  },
  {
   "cell_type": "markdown",
   "metadata": {},
   "source": [
    "La simulation ci-dessous illustre par exemple le concept de modèle en physique et sa limite.\n",
    "\n",
    "Des élèves du projet \"Ambition Sciences\" du lycée Sud-Médoc ont établi l'équation de la trajectoire d'un kleenex supposé ponctuel, lancé depuis une hauteur $h$, avec une vitesse initiale $\\vec{v_0}$, suivant un angle $\\alpha$ par rapport à l'horizontale et soumis à une force de frottement modélisée par une force $\\vec{f}=-\\mu\\times\\vec{v}$. Ils ont obtenu l'équation suivante :\n",
    "\n",
    "$y_{frott.}=g\\cdot\\left(\\dfrac{m}{\\mu}\\right)^2\\cdot ln\\left(1-\\dfrac{\\mu\\cdot x}{m\\cdot v_0\\cdot cos\\alpha}\\right)+\\left(tan\\alpha+\\dfrac{m\\cdot g}{\\mu\\cdot v_0\\cdot cos\\alpha}\\right)\\cdot x$\n",
    "\n",
    "On compare ici la trajectoire obtenue à celle où les frottements sont négligés (programme de terminale) :\n",
    "\n",
    "$y=-\\dfrac{g}{2\\cdot v_0^2\\cdot cos^2\\alpha}\\cdot x^2+tan\\alpha\\cdot x+h$"
   ]
  },
  {
   "cell_type": "code",
   "execution_count": null,
   "metadata": {},
   "outputs": [],
   "source": [
    "xmin = 0.\n",
    "xmax = 1.5\n",
    "Nx = 100\n",
    "x = np.linspace(xmin,xmax,Nx)\n",
    "g = 9.81\n",
    "m = 0.01\n",
    "mu =0.05\n",
    "a = 50.\n",
    "v0 = 6\n",
    "\n",
    "for i in range(Nx):\n",
    "    z_sans = - g/2 * x**2 / (v0 * np.cos(a * np.pi / 180))**2 + np.tan(a * np.pi / 180) * x + 1\n",
    "    z_avec = g * (m/mu)**2 * np.log (1 - x / (m/mu * v0 * np.cos(a * np.pi / 180))) + (np.tan(a * np.pi / 180) + (m/mu * g) / (v0 * np.cos(a * np.pi / 180))) * x + 1\n",
    "    plt.rcParams['figure.figsize'] = [18,10]\n",
    "    plt.plot(x[i],z_sans[i], 'b.')\n",
    "    plt.plot(x[i],z_avec[i], 'r.')\n",
    "    plt.xlim(0,1.5)\n",
    "    plt.ylim(0,2.5)\n",
    "    plt.draw()\n",
    "    display.display(plt.gcf())\n",
    "    display.clear_output(wait=True)\n",
    "    time.sleep(0.02) # une pause de 0,02 s"
   ]
  },
  {
   "cell_type": "markdown",
   "metadata": {},
   "source": [
    "### b. Acquérir point par point des données issues d'un Arduino :"
   ]
  },
  {
   "cell_type": "markdown",
   "metadata": {},
   "source": [
    "Nous proposons ici de suivre par exemple l'évolution de la température T, mesurée en temps réel par un capteur LM35DZ.\n",
    "\n",
    "Nous définissons d'abord une fonction que nous nommerons par exemple *graphe* qui reçoit l'abscisse $x$, l'ordonnée $y$ et la durée $\\Delta t$,puis place le point ($x$, $y$) et temporise pendant la durée $\\Delta t$ :"
   ]
  },
  {
   "cell_type": "code",
   "execution_count": null,
   "metadata": {},
   "outputs": [],
   "source": [
    "def graphe(x, y, Dt):\n",
    "    plt.plot(x, y, 'b.')\n",
    "    plt.draw()\n",
    "    display.display(plt.gcf())\n",
    "    display.clear_output(wait=True)\n",
    "    time.sleep(Dt)"
   ]
  },
  {
   "cell_type": "markdown",
   "metadata": {},
   "source": [
    "**Attention** : Le bloc suivant ne pourra s'éxécuter qu'après avoir au préalable adapté les valeurs soulignées en # à son propore dispositif et après avoir branché la carte Arduino sur laquelle on aura téléversé le programme de mesure de la température rappelé ci-dessous :\n",
    "\n",
    "    void setup()\n",
    "    {\n",
    "      Serial.begin(9600);          // Initialise port série et définit le taux de transfert\n",
    "      analogReference(INTERNAL);   // Améliore la précision de la mesure en réduisant la plage de mesure à [0 V ; 1,1 V]\n",
    "    }\n",
    "    void loop()\n",
    "    {\n",
    "      int Num;                     // définit une variable Num comme un entier\n",
    "      float T;                     // définit la variable T comme un réel\n",
    "      float t = millis() / 1000.;  // définit la variable t comme un réel égal au nombre de seconds écoulées\n",
    "      Num = analogRead(0);         // affecte à Num la valeur reçue par l'entrée EA0\n",
    "      T = Num * 1.1 / 1023 * 100;  // calcule T en °C sachant que 1 V correspond à 100 °C et que le CAN code 2^10 valeurs\n",
    "      Serial.print(t);             // affiche t\n",
    "      Serial.print(\"\\t \");         // affiche une tabulation\n",
    "      Serial.println(T);           // affiche T\n",
    "      delay(1000);                 // attend 1000 ms\n",
    "    }"
   ]
  },
  {
   "cell_type": "code",
   "execution_count": null,
   "metadata": {},
   "outputs": [],
   "source": [
    "import serial as sr\n",
    "\n",
    "port_serie = sr.Serial(port = \"/dev/cu.usbmodem14301\", baudrate = \"9600\")\n",
    "port_serie.setDTR(False)            ################              ######\n",
    "time.sleep(0.1)\n",
    "port_serie.setDTR(True)\n",
    "port_serie.flushInput()\n",
    "\n",
    "temps = []\n",
    "temperature = []\n",
    "duree = int(input('Durée souhaitée en secondes :'))\n",
    "end   = False\n",
    "\n",
    "while end == False or (temps[-1] - temps[0] < duree):\n",
    "    val = port_serie.readline().split()\n",
    "    try:\n",
    "        t  = float(val[0])\n",
    "        T  = float(val[1])\n",
    "        temps.append(t)\n",
    "        temperature.append(T)\n",
    "        end = True\n",
    "        plt.rcParams['figure.figsize'] = [12,6]\n",
    "        graphe(temps,temperature,0.5)\n",
    "    except:\n",
    "        pass\n",
    "\n",
    "port_serie.close()"
   ]
  },
  {
   "cell_type": "markdown",
   "metadata": {},
   "source": [
    "### b. Animer une courbe :\n",
    "\n",
    "Le programme de première demande spécifiquement de *\"simuler, à l’aide d’un langage de programmation, la propagation d’une onde périodique\"*. Il faut pour cela animer la courbe.\n",
    "\n",
    "Prenons l'exemple d'une onde périodique sinusoïdale d'amplitude $A$ = 1 U.A., de fréquence $f$ = 1 Hz et de longueur d'onde $\\lambda$ = 1 m.\n",
    "\n",
    "L'amplitude est une fonction périodique du temps et de l'espace d'expression : $u(x,t)=A\\cdot cos\\left(2\\pi\\cdot\\dfrac{x}{\\lambda}-2\\pi\\cdot\\dfrac{t}{T}\\right)=A\\cdot\\cos\\left(k\\cdot x-\\omega\\cdot t\\right)$.\n",
    "\n",
    "On obtiendra une simulation en traçant la fonction $u(x,t)$ pour des valeurs de $t$ que l'ont fera varier dans une boucle ittérative.\n",
    "\n"
   ]
  },
  {
   "cell_type": "code",
   "execution_count": 72,
   "metadata": {},
   "outputs": [
    {
     "data": {
      "image/png": "[encoded data removed]",
      "text/plain": [
       "<Figure size 1440x360 with 1 Axes>"
      ]
     },
     "metadata": {
      "needs_background": "light"
     },
     "output_type": "display_data"
    }
   ],
   "source": [
    "import numpy as np\n",
    "import matplotlib.pyplot as plt\n",
    "import time\n",
    "from IPython import display\n",
    "\n",
    "### On définit d'abord les abscisses et les différents paramètres : ###\n",
    "\n",
    "x = np.linspace(0, 3, 50)\n",
    "l = 1.\n",
    "T=1.\n",
    "k = 2*np.pi/l\n",
    "omega = 2*np.pi/T\n",
    "dt = 0.01 # pas temporel\n",
    "\n",
    "t = 0\n",
    "Dt = 100\n",
    "\n",
    "for i in range(Dt):\n",
    "    u = np.cos(k*x - omega*t)                    # On calcule u pour la valeur t.\n",
    "    \n",
    "    if i == 0:                                 \n",
    "        plt.grid()\n",
    "        plt.rcParams['figure.figsize'] = [20,5]  # À la première boucle (t = 0), \n",
    "        line, = plt.plot(x, u,'go')               # on génère le graphe u(x).\n",
    "    else:\n",
    "        line.set_ydata(u)                        # Pour les dates t suivantes, on met à jour le tableau des u,\n",
    "        plt.draw()                               # on rafraichit la figure\n",
    "        t = t + dt                               # et on incrémente le temps t du pas dt\n",
    "        \n",
    "    display.display(plt.gcf())                   # On utilise la combianaison de commandes\n",
    "    display.clear_output(wait=True)              # vue au 3.a."
   ]
  },
  {
   "cell_type": "code",
   "execution_count": null,
   "metadata": {},
   "outputs": [],
   "source": []
  }
 ],
 "metadata": {
  "kernelspec": {
   "display_name": "Python 3",
   "language": "python",
   "name": "python3"
  },
  "language_info": {
   "codemirror_mode": {
    "name": "ipython",
    "version": 3
   },
   "file_extension": ".py",
   "mimetype": "text/x-python",
   "name": "python",
   "nbconvert_exporter": "python",
   "pygments_lexer": "ipython3",
   "version": "3.7.1"
  }
 },
 "nbformat": 4,
 "nbformat_minor": 2
}
