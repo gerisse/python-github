{
 "cells": [
  {
   "cell_type": "markdown",
   "metadata": {},
   "source": [
    "# Affichage des données en temps réel"
   ]
  },
  {
   "cell_type": "markdown",
   "metadata": {},
   "source": [
    "## Comment çà marche ?"
   ]
  },
  {
   "cell_type": "markdown",
   "metadata": {},
   "source": [
    "Dans ce Notebook nous allons créer une fonction pour afficher les données provenant de la carte Arduino en temps réel."
   ]
  },
  {
   "cell_type": "markdown",
   "metadata": {},
   "source": [
    "### Les modules à importer"
   ]
  },
  {
   "cell_type": "code",
   "execution_count": null,
   "metadata": {},
   "outputs": [],
   "source": [
    "import time                      # gestion du temps\n",
    "from IPython import display      # gestion du contenu et de l'affichage dans les cellules du notebook\n",
    "import matplotlib.pyplot as plt  # pour les graphiques"
   ]
  },
  {
   "cell_type": "markdown",
   "metadata": {},
   "source": [
    "### Mise à jour du graphique"
   ]
  },
  {
   "cell_type": "markdown",
   "metadata": {},
   "source": [
    "L'idée est de pouvoir afficher les points de mesure au fur et à mesure de l'acquisition. Les deux instructions suivantes permettent de paramétrer l'affichage du graphique dans une cellule du Notebook."
   ]
  },
  {
   "cell_type": "code",
   "execution_count": null,
   "metadata": {},
   "outputs": [],
   "source": [
    "display.display(plt.gcf())\n",
    "display.clear_output(wait=True)"
   ]
  },
  {
   "cell_type": "markdown",
   "metadata": {},
   "source": [
    "Python propose également une fonction `draw` permettant de réaliser la mise à jour de la figure. Attention dans ce cas pas de fonction `show` qui bloquerait la mise à jour.\n",
    "\n",
    "Prenons un exemple très simple avec une liste d'abscisses et une fonction $f: x \\mapsto \\sin(x)$ pour le calcul des images $f(x)$ "
   ]
  },
  {
   "cell_type": "code",
   "execution_count": null,
   "metadata": {},
   "outputs": [],
   "source": [
    "import numpy as np"
   ]
  },
  {
   "cell_type": "code",
   "execution_count": null,
   "metadata": {},
   "outputs": [],
   "source": [
    "n = 10 # nombre de points\n",
    "x = np.linspace(0, 6, n)\n",
    "\n",
    "for i in range(n):\n",
    "    y = np.sin(x[i])               # calcul de l'image par la fonction f\n",
    "    plt.plot(x[i], y, 'or')        # tracé du point i\n",
    "    plt.draw()                     # mise à jour du graphique\n",
    "    display.display(plt.gcf())\n",
    "    display.clear_output(wait=True)\n",
    "    time.sleep(1)                  # une pause de 1 seconde"
   ]
  },
  {
   "cell_type": "markdown",
   "metadata": {},
   "source": [
    "On observe que l'intervalle des valeurs sur les axes $x$ et $y$ est mis à jour automatiquement ce qui est bien pratique puisque lors d'une acquisition nous ne connaissons pas forcément avec précision les valeurs prises par la grandeur observée.\n",
    "\n",
    "Les inconvénients : \n",
    "* Cela peut provoquer un clignotement de la fenêtre graphique puisqu'elle est redissinée complètement si les valeurs des axes changent. Pour palier à ce problème on peut par exemple diminuer le temps de pause ou bien fixer les valeurs limites si elles sont connues  "
   ]
  },
  {
   "cell_type": "code",
   "execution_count": null,
   "metadata": {},
   "outputs": [],
   "source": [
    "n = 10 # nombre de points\n",
    "x = np.linspace(0, 6, n)\n",
    "\n",
    "for i in range(n):\n",
    "    y = np.sin(x[i])               # calcul de l'image par la fonction f\n",
    "    plt.xlim(-0.5, 6.5)            # valeurs limites en x\n",
    "    plt.ylim(-1.25, 1.25)          # valeurs limites en y\n",
    "    plt.plot(x[i], y, 'or')        # tracé du point i\n",
    "    plt.draw()                     # mise à jour du graphique\n",
    "    display.display(plt.gcf())\n",
    "    display.clear_output(wait=True)\n",
    "    time.sleep(0.05)  "
   ]
  },
  {
   "cell_type": "markdown",
   "metadata": {},
   "source": [
    "## Arduino - Python"
   ]
  },
  {
   "cell_type": "markdown",
   "metadata": {},
   "source": [
    "### Une fonction pour la mise à jour du graphe"
   ]
  },
  {
   "cell_type": "code",
   "execution_count": null,
   "metadata": {},
   "outputs": [],
   "source": [
    "def affichage(x, y, dt):\n",
    "    '''\n",
    "    Cette fonction permet de mettre à jour en temps réel le graphe de y=f(x)\n",
    "    x -> float or int : abscisse\n",
    "    y -> float or int : ordonnée\n",
    "    '''\n",
    "    plt.plot(x, y, 'or')\n",
    "    plt.draw()\n",
    "    display.display(plt.gcf())\n",
    "    display.clear_output(wait=True)\n",
    "    time.sleep(dt)"
   ]
  },
  {
   "cell_type": "markdown",
   "metadata": {},
   "source": [
    "Nous pouvons tracer par exemple le suivi temporel de la tension mesurée aux bornes de la thermistance de l'activité Arduino_nveau_2 \n",
    "\n",
    "* Soit `t` la date de la mesure en cours\n",
    "* Soit `u` la valeur numérique correspondante à la tension mesurée aux bornes de la thermistance"
   ]
  },
  {
   "cell_type": "markdown",
   "metadata": {},
   "source": [
    "**Attention vous ne pourrez valider la cellule suivante que lors d'une connexion avec la carte Arduino avec le téléversement du programme Arduino adapté** Vous trouverez des exemples dans les activités Arduino_niveau_1 et Arduino_niveau_2"
   ]
  },
  {
   "cell_type": "code",
   "execution_count": null,
   "metadata": {},
   "outputs": [],
   "source": [
    "# ouverture du port série\n",
    "serial_port = serial.Serial(port = \"/dev/ttyACM0\", baudrate = 9600)\n",
    "\n",
    "# les mesures\n",
    "temps = []\n",
    "U     = []\n",
    "# conditions d'arrêt\n",
    "duree = 5000 \n",
    "end   = False\n",
    "\n",
    "# on récupère les données\n",
    "while (not end) or (temps[-1] - temps[0] < duree):\n",
    "    data = serial_port.readline().split()\n",
    "    try:\n",
    "        t  = float(data[0])\n",
    "        u  = float(data[1])\n",
    "        temps.append(t)\n",
    "        U.append(u)\n",
    "        end = True\n",
    "        affichage(t, u)\n",
    "    except:\n",
    "        pass    \n",
    "# fermeture du port série\n",
    "serial_port.close()"
   ]
  },
  {
   "cell_type": "markdown",
   "metadata": {},
   "source": [
    "**À faire : ** En s'inspirant du code ci-dessus tracer le suivi temporel de la température en fonction du temps dans le cadre de l'activité Arduino_niveau_2"
   ]
  },
  {
   "cell_type": "code",
   "execution_count": null,
   "metadata": {},
   "outputs": [],
   "source": []
  }
 ],
 "metadata": {
  "kernelspec": {
   "display_name": "Python 3",
   "language": "python",
   "name": "python3"
  },
  "language_info": {
   "codemirror_mode": {
    "name": "ipython",
    "version": 3
   },
   "file_extension": ".py",
   "mimetype": "text/x-python",
   "name": "python",
   "nbconvert_exporter": "python",
   "pygments_lexer": "ipython3",
   "version": "3.6.5"
  }
 },
 "nbformat": 4,
 "nbformat_minor": 2
}
